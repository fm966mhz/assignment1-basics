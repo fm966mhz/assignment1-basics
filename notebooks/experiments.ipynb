{
 "cells": [
  {
   "cell_type": "code",
   "execution_count": 1,
   "id": "569e6c1e-9839-49d8-a19d-f9d0313b3014",
   "metadata": {},
   "outputs": [],
   "source": [
    "import pickle\n",
    "\n",
    "from cs336_basics.bpe_tokenizer import BpeTokenizer"
   ]
  },
  {
   "cell_type": "markdown",
   "id": "4d372fca-45c2-4c7b-a377-16905ff7389e",
   "metadata": {},
   "source": [
    "# 2.7 Experiments"
   ]
  },
  {
   "cell_type": "code",
   "execution_count": null,
   "id": "bb4b09a8-e221-4c56-af9e-423d2645bc7a",
   "metadata": {},
   "outputs": [],
   "source": []
  }
 ],
 "metadata": {
  "kernelspec": {
   "display_name": "Python 3 (ipykernel)",
   "language": "python",
   "name": "python3"
  },
  "language_info": {
   "codemirror_mode": {
    "name": "ipython",
    "version": 3
   },
   "file_extension": ".py",
   "mimetype": "text/x-python",
   "name": "python",
   "nbconvert_exporter": "python",
   "pygments_lexer": "ipython3",
   "version": "3.12.7"
  }
 },
 "nbformat": 4,
 "nbformat_minor": 5
}
